{
 "cells": [
  {
   "cell_type": "code",
   "id": "778d5502065cd38c",
   "metadata": {
    "collapsed": true,
    "ExecuteTime": {
     "end_time": "2024-10-09T09:58:08.607776Z",
     "start_time": "2024-10-09T09:58:07.531228Z"
    }
   },
   "source": [
    "from torch.utils.data import Dataset, DataLoader\n",
    "import torch\n",
    "import torch.nn as nn\n",
    "import matplotlib.pyplot as plt\n",
    "import pandas as pd"
   ],
   "outputs": [],
   "execution_count": 1
  },
  {
   "metadata": {
    "ExecuteTime": {
     "end_time": "2024-10-09T09:58:08.622776Z",
     "start_time": "2024-10-09T09:58:08.608777Z"
    }
   },
   "cell_type": "code",
   "source": [
    "import os\n",
    "os.environ[\"KMP_DUPLICATE_LIB_OK\"]=\"TRUE\""
   ],
   "id": "87f6896ec0dbe4b0",
   "outputs": [],
   "execution_count": 2
  },
  {
   "metadata": {
    "ExecuteTime": {
     "end_time": "2024-10-09T09:58:08.637777Z",
     "start_time": "2024-10-09T09:58:08.623778Z"
    }
   },
   "cell_type": "code",
   "source": [
    "class EmbeddingDataset(Dataset):\n",
    "    def __init__(self, parquet_file):\n",
    "        # Загрузка предобработанных данных\n",
    "        self.data = pd.read_parquet(parquet_file)\n",
    "        self.labels = self.data['label'].values\n",
    "\n",
    "    def __len__(self):\n",
    "        return len(self.data)\n",
    "\n",
    "    def __getitem__(self, idx):\n",
    "        emb_r50 = self.data.iloc[idx]['emb_r50']\n",
    "        emb_r100 = self.data.iloc[idx]['emb_r100']\n",
    "        label = self.labels[idx]\n",
    "        # Конвертируем эмбеддинги в тензоры\n",
    "        emb_r50 = torch.tensor(emb_r50, dtype=torch.float32)\n",
    "        emb_r100 = torch.tensor(emb_r100, dtype=torch.float32)\n",
    "        return emb_r50, emb_r100, label\n",
    "    \n",
    "    \n",
    "class EmbeddingMapper(nn.Module):\n",
    "    def __init__(self, input_dim=512, output_dim=512):\n",
    "        super(EmbeddingMapper, self).__init__()\n",
    "        self.lin1 = nn.Sequential(\n",
    "            nn.Linear(input_dim, 1024),\n",
    "            nn.ReLU(),\n",
    "            nn.BatchNorm1d(1024))\n",
    "        self.lin2 = nn.Sequential(\n",
    "            nn.Linear(1024, 2048),\n",
    "            nn.ReLU(),\n",
    "            nn.BatchNorm1d(2048))\n",
    "        self.lin3 = nn.Sequential(\n",
    "            nn.Linear(2048, 1024),\n",
    "            nn.ReLU(),\n",
    "            nn.BatchNorm1d(1024))\n",
    "        self.lin4 = nn.Linear(1024, output_dim)\n",
    "        \n",
    "    def forward(self, x):\n",
    "        # print(x.shape)\n",
    "        x = self.lin1(x)\n",
    "        x = self.lin2(x)\n",
    "        x = self.lin3(x)\n",
    "        x = self.lin4(x)\n",
    "        return x\n",
    "    \n",
    "def cosine_similarity_torch(x1, x2):\n",
    "    cos = nn.CosineSimilarity(dim=1, eps=1e-6)\n",
    "    return cos(x1, x2)"
   ],
   "id": "initial_id",
   "outputs": [],
   "execution_count": 3
  },
  {
   "metadata": {
    "ExecuteTime": {
     "end_time": "2024-10-09T09:58:08.877786Z",
     "start_time": "2024-10-09T09:58:08.638778Z"
    }
   },
   "cell_type": "code",
   "source": [
    "batch_size = 256\n",
    "test_dataset = EmbeddingDataset('test_embeddings.parquet')\n",
    "test_loader = DataLoader(test_dataset, batch_size=batch_size, shuffle=False, num_workers=0)\n",
    "device = torch.device('cpu')\n",
    "\n",
    "model = EmbeddingMapper(input_dim=512, output_dim=512).to(device)\n",
    "model.load_state_dict(torch.load(r\"checkpoints\\refactor_2_stage2_embedding_mapper8.pth\"))"
   ],
   "id": "708ed4d469a40c04",
   "outputs": [
    {
     "data": {
      "text/plain": [
       "<All keys matched successfully>"
      ]
     },
     "execution_count": 4,
     "metadata": {},
     "output_type": "execute_result"
    }
   ],
   "execution_count": 4
  },
  {
   "metadata": {
    "ExecuteTime": {
     "end_time": "2024-10-09T09:58:09.417984Z",
     "start_time": "2024-10-09T09:58:08.969789Z"
    }
   },
   "cell_type": "code",
   "source": [
    "model.eval()\n",
    "with torch.no_grad():\n",
    "    test_loss = 0.0\n",
    "    total_cosine_sim = 0.0\n",
    "    total_samples = 0\n",
    "    similarities = []\n",
    "    for inputs, targets, _ in test_loader:\n",
    "        inputs = inputs.to(device)\n",
    "        targets = targets.to(device)\n",
    "\n",
    "        outputs = model(inputs)\n",
    "        cosine_sim = cosine_similarity_torch(outputs, targets)\n",
    "        similarities.append(cosine_sim.detach().cpu().numpy())\n",
    "        total_cosine_sim += cosine_sim.sum().item()\n",
    "        total_samples += inputs.size(0)"
   ],
   "id": "cf1c55dadde68368",
   "outputs": [],
   "execution_count": 5
  },
  {
   "metadata": {
    "ExecuteTime": {
     "end_time": "2024-10-09T09:58:09.915048Z",
     "start_time": "2024-10-09T09:58:09.642393Z"
    }
   },
   "cell_type": "code",
   "source": "plt.hist(similarities)",
   "id": "60c132583f8e7489",
   "outputs": [
    {
     "data": {
      "text/plain": [
       "(array([[  0.,   0.,   0.,   0.,   2.,   1.,   3.,  33., 119.,  98.],\n",
       "        [  1.,   0.,   1.,   0.,   0.,   1.,   7.,  29., 127.,  90.],\n",
       "        [  0.,   0.,   0.,   0.,   0.,   0.,   2.,   8.,  74., 172.],\n",
       "        [  0.,   0.,   0.,   0.,   0.,   0.,   5.,   9.,  91., 151.],\n",
       "        [  0.,   0.,   0.,   0.,   0.,   0.,   1.,   8.,  88., 159.],\n",
       "        [  0.,   0.,   0.,   1.,   1.,   0.,   3.,  13., 106., 132.],\n",
       "        [  0.,   0.,   0.,   0.,   2.,   1.,   5.,  39., 121.,  88.],\n",
       "        [  0.,   0.,   0.,   0.,   1.,   1.,   2.,   9.,  65., 178.],\n",
       "        [  0.,   0.,   1.,   0.,   1.,   1.,   3.,  12.,  46., 192.],\n",
       "        [  0.,   0.,   0.,   0.,   0.,   1.,   2.,  15.,  84., 154.],\n",
       "        [  0.,   0.,   0.,   1.,   0.,   0.,   0.,   1.,  39., 215.],\n",
       "        [  0.,   0.,   0.,   0.,   0.,   0.,   0.,   3.,  30., 223.],\n",
       "        [  0.,   0.,   0.,   0.,   0.,   1.,   3.,  12.,  80., 160.],\n",
       "        [  0.,   0.,   0.,   0.,   0.,   1.,   1.,  12., 125., 117.],\n",
       "        [  0.,   0.,   1.,   0.,   0.,   1.,   1.,  10., 112., 131.],\n",
       "        [  0.,   0.,   0.,   0.,   0.,   4.,   2.,  22., 113., 115.],\n",
       "        [  0.,   0.,   0.,   0.,   0.,   1.,   2.,  13.,  80., 160.],\n",
       "        [  0.,   0.,   0.,   0.,   0.,   0.,   1.,   3.,  22.,   7.]]),\n",
       " array([0.44821447, 0.49818233, 0.54815018, 0.59811807, 0.64808589,\n",
       "        0.69805372, 0.7480216 , 0.79798949, 0.84795731, 0.89792514,\n",
       "        0.94789302]),\n",
       " <a list of 18 BarContainer objects>)"
      ]
     },
     "execution_count": 6,
     "metadata": {},
     "output_type": "execute_result"
    },
    {
     "data": {
      "text/plain": [
       "<Figure size 640x480 with 1 Axes>"
      ],
      "image/png": "[encoded data removed]"
     },
     "metadata": {},
     "output_type": "display_data"
    }
   ],
   "execution_count": 6
  }
 ],
 "metadata": {
  "kernelspec": {
   "display_name": "Python 3",
   "language": "python",
   "name": "python3"
  },
  "language_info": {
   "codemirror_mode": {
    "name": "ipython",
    "version": 2
   },
   "file_extension": ".py",
   "mimetype": "text/x-python",
   "name": "python",
   "nbconvert_exporter": "python",
   "pygments_lexer": "ipython2",
   "version": "2.7.6"
  }
 },
 "nbformat": 4,
 "nbformat_minor": 5
}
